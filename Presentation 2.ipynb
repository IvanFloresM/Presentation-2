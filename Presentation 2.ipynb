{
 "cells": [
  {
   "cell_type": "markdown",
   "metadata": {},
   "source": [
    "## Chapter 3. Built-in Data Structures, Functions, and Files"
   ]
  },
  {
   "cell_type": "markdown",
   "metadata": {},
   "source": [
    "### Agenda\n",
    " \n",
    "1. Add or remove items from a list. \n",
    "\n",
    "\n",
    "2. Combine two lists in a tuple to create a dictionary.\n",
    "\n",
    "\n",
    "3. The ZIP Function.\n",
    "\n",
    "\n",
    "3. Other cool uses for the zip function. \n",
    "\n",
    "\n",
    "4. Sets\n",
    "\n",
    "\n",
    "5. List Comprenhension\n",
    "\n",
    "\n",
    "6. Functions\n",
    "\n",
    "\n",
    "7. Lambda fuctions.\n",
    "\n",
    "\n",
    "8. Try and Except\n"
   ]
  },
  {
   "cell_type": "markdown",
   "metadata": {},
   "source": [
    "### 1. Add or remove items from a list.\n",
    "\n",
    "* Elements can be appended to the end of the list with the append method: **my_list.append[\"something\"]**\n",
    "\n",
    "\n",
    "* Elements can be removed from a list with the remove method: **my_list.remove[\"something\"]**"
   ]
  },
  {
   "cell_type": "code",
   "execution_count": 26,
   "metadata": {},
   "outputs": [
    {
     "data": {
      "text/plain": [
       "['red',\n",
       " 'green',\n",
       " 'green',\n",
       " 'green',\n",
       " 'red',\n",
       " 'blue',\n",
       " 'blue',\n",
       " 'blue',\n",
       " 'red',\n",
       " 'orange',\n",
       " 'purple',\n",
       " 'yellow',\n",
       " 'yellow',\n",
       " 'red',\n",
       " 'green',\n",
       " 'red',\n",
       " 'orange',\n",
       " 'purple',\n",
       " 'red',\n",
       " 'green',\n",
       " 'green',\n",
       " 'red',\n",
       " 'orange',\n",
       " 'purple',\n",
       " 'salmon',\n",
       " 'magenta',\n",
       " 'fiusha']"
      ]
     },
     "execution_count": 26,
     "metadata": {},
     "output_type": "execute_result"
    }
   ],
   "source": [
    "#Let's add some fun colors to Dr. Radford's list of favorite colors.\n",
    "\n",
    "fav_colors = [\"red\",\"green\",\"green\",\"green\",\"red\",\n",
    "              \"blue\",\"blue\",\"blue\",\"red\",\"orange\",\n",
    "              \"purple\",\"yellow\",\"yellow\",\"red\",\n",
    "              \"green\",\"red\",\"orange\",\"purple\",\"red\",\n",
    "              \"green\",\"green\",\"red\",\"orange\",\"purple\"]\n",
    "\n",
    "fav_colors.append(\"magenta\")\n",
    "fav_colors.append(\"fiusha\")\n",
    "fav_colors"
   ]
  },
  {
   "cell_type": "code",
   "execution_count": 44,
   "metadata": {
    "scrolled": false
   },
   "outputs": [
    {
     "name": "stdout",
     "output_type": "stream",
     "text": [
      "['red', 'green', 'blue', 'orange', 'purple', 'yellow', 'salmon', 'fiusha']\n",
      "[7, 6, 3, 3, 3, 2, 1, 1]\n"
     ]
    }
   ],
   "source": [
    "# You can get the unique values of a list by combining a loop with the append method.\n",
    "output = []\n",
    "for x in fav_colors:\n",
    "    if x not in output:\n",
    "        output.append(x)\n",
    "print(output)\n",
    "\n",
    "## You can get the value counts of a list by combining a loop with the append method.\n",
    "count = []      \n",
    "for i in output:\n",
    "       count.append(fav_colors.count(i))\n",
    "print(count)        "
   ]
  },
  {
   "cell_type": "markdown",
   "metadata": {},
   "source": [
    "### 2.  The ZIP function\n",
    "\n",
    "* The zip function “pairs” up the elements of a number of lists, tuples, or other sequences to create a list of tuples. "
   ]
  },
  {
   "cell_type": "code",
   "execution_count": 49,
   "metadata": {
    "scrolled": true
   },
   "outputs": [
    {
     "data": {
      "text/plain": [
       "{'red': 7,\n",
       " 'green': 6,\n",
       " 'blue': 3,\n",
       " 'orange': 3,\n",
       " 'purple': 3,\n",
       " 'yellow': 2,\n",
       " 'salmon': 1,\n",
       " 'fiusha': 1}"
      ]
     },
     "execution_count": 49,
     "metadata": {},
     "output_type": "execute_result"
    }
   ],
   "source": [
    "# You can create a zip object from two lists. Then, use the dict function to create a dictionary.\n",
    "\n",
    "color_counts = dict(zip(output, count))\n",
    "color_counts"
   ]
  },
  {
   "cell_type": "markdown",
   "metadata": {},
   "source": [
    "### 3. Other cool ZIP functions\n",
    "\n",
    "* A very common use of zip is simultaneously iterating over multiple sequences (combine it with the function enumerate)."
   ]
  },
  {
   "cell_type": "code",
   "execution_count": 50,
   "metadata": {},
   "outputs": [
    {
     "name": "stdout",
     "output_type": "stream",
     "text": [
      "0: Ivan, Flores\n",
      "1: Nathan, Duma\n",
      "2: Benjamin, Radford\n"
     ]
    }
   ],
   "source": [
    "#Imagine you want to get the full name of a person, but the info is stored in two lists. \n",
    "#You can use zip to iterate between the lists to find the persons' full names.\n",
    "\n",
    "first_name = ['Ivan', 'Nathan', 'Benjamin']\n",
    "last_name = ['Flores', 'Duma', 'Radford']\n",
    "\n",
    "for i, (a, b) in enumerate(zip(first_name, last_name)):\n",
    "    print('{0}: {1}, {2}'.format(i, a, b))"
   ]
  },
  {
   "cell_type": "code",
   "execution_count": 38,
   "metadata": {},
   "outputs": [
    {
     "data": {
      "text/plain": [
       "('Megan', 'Vickie', 'Karoline')"
      ]
     },
     "execution_count": 38,
     "metadata": {},
     "output_type": "execute_result"
    }
   ],
   "source": [
    "#zip can be applied in a clever way to “unzip” the sequence. For example:\n",
    "\n",
    "classmates = [('Megan', 'Bird'), ('Vickie', 'Galica'), ('Karoline', 'Summerville')] \n",
    "\n",
    "first_names, last_names = zip(*classmates)\n",
    "first_names "
   ]
  },
  {
   "cell_type": "code",
   "execution_count": 39,
   "metadata": {},
   "outputs": [
    {
     "data": {
      "text/plain": [
       "('Bird', 'Galica', 'Summerville')"
      ]
     },
     "execution_count": 39,
     "metadata": {},
     "output_type": "execute_result"
    }
   ],
   "source": [
    "last_names"
   ]
  },
  {
   "cell_type": "markdown",
   "metadata": {},
   "source": [
    "### 4. Sets\n",
    "\n",
    "* A set is an unordered collection of unique elements.\n",
    "* You can think of them like dicts, but keys only, no values. "
   ]
  },
  {
   "cell_type": "code",
   "execution_count": 42,
   "metadata": {},
   "outputs": [
    {
     "data": {
      "text/plain": [
       "{1, 2, 3}"
      ]
     },
     "execution_count": 42,
     "metadata": {},
     "output_type": "execute_result"
    }
   ],
   "source": [
    "#A set can be created in two ways: via the set function or via a set literal with curly braces:\n",
    "set([2, 2, 2, 1, 3, 3])"
   ]
  },
  {
   "cell_type": "code",
   "execution_count": 51,
   "metadata": {},
   "outputs": [
    {
     "data": {
      "text/plain": [
       "{5, 6, 7, 8}"
      ]
     },
     "execution_count": 51,
     "metadata": {},
     "output_type": "execute_result"
    }
   ],
   "source": [
    "{5, 5, 6, 7, 8, 8}"
   ]
  },
  {
   "cell_type": "code",
   "execution_count": 56,
   "metadata": {},
   "outputs": [
    {
     "data": {
      "text/plain": [
       "{1, 2, 3, 5, 6, 7, 8}"
      ]
     },
     "execution_count": 56,
     "metadata": {},
     "output_type": "execute_result"
    }
   ],
   "source": [
    "#Sets support mathematical set operations like union, intersection, difference, and symmetric difference.\n",
    "\n",
    "a = {2, 2, 2, 1, 3, 3}\n",
    "b = {5, 5, 6, 7, 8, 8}\n",
    "c = {3,3,5,5,7,7}\n",
    "\n",
    "#Union\n",
    "a.union(b)"
   ]
  },
  {
   "cell_type": "code",
   "execution_count": 55,
   "metadata": {},
   "outputs": [
    {
     "data": {
      "text/plain": [
       "{5, 7}"
      ]
     },
     "execution_count": 55,
     "metadata": {},
     "output_type": "execute_result"
    }
   ],
   "source": [
    "#Intersection\n",
    "b.intersection(c)"
   ]
  },
  {
   "cell_type": "code",
   "execution_count": 57,
   "metadata": {},
   "outputs": [
    {
     "data": {
      "text/plain": [
       "{1, 2}"
      ]
     },
     "execution_count": 57,
     "metadata": {},
     "output_type": "execute_result"
    }
   ],
   "source": [
    "#Difference\n",
    "a.difference(c)"
   ]
  },
  {
   "cell_type": "code",
   "execution_count": 58,
   "metadata": {},
   "outputs": [
    {
     "data": {
      "text/plain": [
       "{3, 6, 8}"
      ]
     },
     "execution_count": 58,
     "metadata": {},
     "output_type": "execute_result"
    }
   ],
   "source": [
    "#Symetric difference\n",
    "b.symmetric_difference(c)"
   ]
  },
  {
   "cell_type": "markdown",
   "metadata": {},
   "source": [
    "### 5. List comprehensions\n",
    "\n",
    "* List comprenhension allow you to concisely form a new list by filtering the elements of a collection, transforming the elements passing the filter in one concise expression."
   ]
  },
  {
   "cell_type": "code",
   "execution_count": 61,
   "metadata": {},
   "outputs": [
    {
     "data": {
      "text/plain": [
       "['BAT', 'CAR', 'DOVE', 'PYTHON']"
      ]
     },
     "execution_count": 61,
     "metadata": {},
     "output_type": "execute_result"
    }
   ],
   "source": [
    "#For example, given a list of strings, we could filter out strings with length 2 or less and also convert them to uppercase\n",
    "strings = ['a', 'as', 'bat', 'car', 'dove', 'python']\n",
    "[x.upper() for x in strings if len(x) > 2] "
   ]
  },
  {
   "cell_type": "code",
   "execution_count": 62,
   "metadata": {},
   "outputs": [
    {
     "data": {
      "text/plain": [
       "{'a': 0, 'as': 1, 'bat': 2, 'car': 3, 'dove': 4, 'python': 5}"
      ]
     },
     "execution_count": 62,
     "metadata": {},
     "output_type": "execute_result"
    }
   ],
   "source": [
    "#we could create a lookup map of these strings to their locations in the list: \n",
    "loc_mapping = {val : index for index, val in enumerate(strings)}\n",
    "loc_mapping"
   ]
  },
  {
   "cell_type": "code",
   "execution_count": 20,
   "metadata": {},
   "outputs": [
    {
     "data": {
      "text/plain": [
       "['Steven']"
      ]
     },
     "execution_count": 20,
     "metadata": {},
     "output_type": "execute_result"
    }
   ],
   "source": [
    "#Suppose we have a list of lists containing some English and Spanish names\n",
    "all_data = [['John', 'Emily', 'Michael', 'Mary', 'Steven'], ['Maria', 'Juan', 'Javier', 'Natalia', 'Pilar']]\n",
    "\n",
    "#Now, we wanted to get a single list containing all names with two or more e’s in them.\n",
    "names_of_interest = [] \n",
    "for names in all_data: \n",
    "    enough_es = [name for name in names if name.count('e') >= 2] \n",
    "    names_of_interest.extend(enough_es)\n",
    "    \n",
    "names_of_interest"
   ]
  },
  {
   "cell_type": "code",
   "execution_count": 24,
   "metadata": {},
   "outputs": [
    {
     "data": {
      "text/plain": [
       "[1, 2, 3, 4, 5, 6, 7, 8, 9]"
      ]
     },
     "execution_count": 24,
     "metadata": {},
     "output_type": "execute_result"
    }
   ],
   "source": [
    "#Here is another example where we “flatten” a list of tuples of integers into a simple list of integers: \n",
    "some_tuples = [(1, 2, 3), (4, 5, 6), (7, 8, 9)]\n",
    "flattened = [x for tup in some_tuples for x in tup]\n",
    "flattened "
   ]
  },
  {
   "cell_type": "markdown",
   "metadata": {},
   "source": [
    "### 6. Functions\n",
    "\n",
    "* Functions are useful when you need to repeat the same or very similar code more than once.\n",
    "\n"
   ]
  },
  {
   "cell_type": "code",
   "execution_count": 31,
   "metadata": {},
   "outputs": [
    {
     "data": {
      "text/plain": [
       "['Alabama',\n",
       " 'Georgia',\n",
       " 'Georgia',\n",
       " 'Georgia',\n",
       " 'Florida',\n",
       " 'South Carolina',\n",
       " 'West Virginia']"
      ]
     },
     "execution_count": 31,
     "metadata": {},
     "output_type": "execute_result"
    }
   ],
   "source": [
    "#Data cleaning\n",
    "#Remove spaces, special characters and other symbols\n",
    "states = [' Alabama ', 'Georgia!', 'Georgia', 'georgia', 'FlOrIda', 'south carolina##', 'West virginia?']\n",
    "\n",
    "import re\n",
    "def clean_strings(strings): \n",
    "    result = [] \n",
    "    for value in strings: \n",
    "        value = value.strip() \n",
    "        value = re.sub('[!#?]', '', value) \n",
    "        value = value.title() \n",
    "        result.append(value)\n",
    "    return result\n",
    "\n",
    "clean_strings(states)"
   ]
  },
  {
   "cell_type": "markdown",
   "metadata": {},
   "source": [
    " ### 7. Lambda Fuctions\n",
    " \n",
    "* There are many cases where data transformation functions will take functions as arguments. \n",
    "\n",
    "\n",
    "* It’s often less typing (and clearer) to pass a lambda function as opposed to writing a full-out function declara‐ tion or even assigning the lambda function to a local variable"
   ]
  },
  {
   "cell_type": "code",
   "execution_count": 34,
   "metadata": {
    "scrolled": true
   },
   "outputs": [
    {
     "data": {
      "text/plain": [
       "[8, 0, 2, 10, 12]"
      ]
     },
     "execution_count": 34,
     "metadata": {},
     "output_type": "execute_result"
    }
   ],
   "source": [
    "def short_function(x): return x * 2\n",
    "equiv_anon = lambda x: x * 2\n",
    "\n",
    "def apply_to_list(some_list, f): \n",
    "    return [f(x) for x in some_list]\n",
    "\n",
    "ints = [4, 0, 1, 5, 6] \n",
    "apply_to_list(ints, lambda x: x * 2)"
   ]
  },
  {
   "cell_type": "markdown",
   "metadata": {},
   "source": [
    "### 8. Try and Except\n",
    "\n",
    "* When an error occurs, or exception as we call it, Python will normally stop and generate an error message. These exceptions can be handled using the try statement.\n",
    "\n",
    "\n",
    "* You can also choose to throw an exception if a condition occurs."
   ]
  },
  {
   "cell_type": "code",
   "execution_count": 74,
   "metadata": {},
   "outputs": [
    {
     "data": {
      "text/plain": [
       "1.2345"
      ]
     },
     "execution_count": 74,
     "metadata": {},
     "output_type": "execute_result"
    }
   ],
   "source": [
    "#Suppose we wanted a version of float that fails gracefully, returning the input argument. \n",
    "#We can do this by writing a function that encloses the call to float in a try/except block:\n",
    "\n",
    "def attempt_float(x): \n",
    "    try:\n",
    "        return float(x) \n",
    "    except: \n",
    "        return x\n",
    "    \n",
    "attempt_float('1.2345')"
   ]
  },
  {
   "cell_type": "code",
   "execution_count": 75,
   "metadata": {},
   "outputs": [
    {
     "data": {
      "text/plain": [
       "'something'"
      ]
     },
     "execution_count": 75,
     "metadata": {},
     "output_type": "execute_result"
    }
   ],
   "source": [
    "attempt_float('something')"
   ]
  },
  {
   "cell_type": "code",
   "execution_count": null,
   "metadata": {},
   "outputs": [],
   "source": []
  },
  {
   "cell_type": "code",
   "execution_count": null,
   "metadata": {},
   "outputs": [],
   "source": []
  },
  {
   "cell_type": "code",
   "execution_count": null,
   "metadata": {},
   "outputs": [],
   "source": []
  },
  {
   "cell_type": "code",
   "execution_count": null,
   "metadata": {},
   "outputs": [],
   "source": []
  },
  {
   "cell_type": "code",
   "execution_count": null,
   "metadata": {},
   "outputs": [],
   "source": []
  },
  {
   "cell_type": "code",
   "execution_count": null,
   "metadata": {},
   "outputs": [],
   "source": []
  },
  {
   "cell_type": "code",
   "execution_count": null,
   "metadata": {},
   "outputs": [],
   "source": []
  },
  {
   "cell_type": "code",
   "execution_count": null,
   "metadata": {},
   "outputs": [],
   "source": []
  },
  {
   "cell_type": "code",
   "execution_count": null,
   "metadata": {},
   "outputs": [],
   "source": []
  },
  {
   "cell_type": "code",
   "execution_count": null,
   "metadata": {},
   "outputs": [],
   "source": []
  },
  {
   "cell_type": "code",
   "execution_count": null,
   "metadata": {},
   "outputs": [],
   "source": []
  },
  {
   "cell_type": "code",
   "execution_count": null,
   "metadata": {},
   "outputs": [],
   "source": []
  },
  {
   "cell_type": "code",
   "execution_count": null,
   "metadata": {},
   "outputs": [],
   "source": []
  },
  {
   "cell_type": "code",
   "execution_count": null,
   "metadata": {},
   "outputs": [],
   "source": []
  },
  {
   "cell_type": "code",
   "execution_count": null,
   "metadata": {},
   "outputs": [],
   "source": []
  },
  {
   "cell_type": "code",
   "execution_count": null,
   "metadata": {},
   "outputs": [],
   "source": []
  },
  {
   "cell_type": "code",
   "execution_count": null,
   "metadata": {},
   "outputs": [],
   "source": []
  }
 ],
 "metadata": {
  "kernelspec": {
   "display_name": "Python 3",
   "language": "python",
   "name": "python3"
  },
  "language_info": {
   "codemirror_mode": {
    "name": "ipython",
    "version": 3
   },
   "file_extension": ".py",
   "mimetype": "text/x-python",
   "name": "python",
   "nbconvert_exporter": "python",
   "pygments_lexer": "ipython3",
   "version": "3.7.3"
  }
 },
 "nbformat": 4,
 "nbformat_minor": 2
}
